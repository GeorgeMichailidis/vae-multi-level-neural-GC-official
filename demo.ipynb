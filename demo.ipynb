{
 "cells": [
  {
   "cell_type": "markdown",
   "id": "9035b5df-ff04-469a-9670-3c0239e4081e",
   "metadata": {},
   "source": [
    "#### This notebook is intended to be a demo for running the proposed methodology given time series data\n",
    "#### Major components required for the end-to-end process include:\n",
    "1. time series trajectories, see `data_demo/demo_seed0/trajs.pickle`\n",
    "2. the corresponding `torch.utils.data.dataset.Dataset` object for loading the data during the run, see `src/datasets/demo.py`\n",
    "3. the config file that specifies the data and (hyper)parameters, see `configs/demo.yaml`"
   ]
  },
  {
   "cell_type": "code",
   "execution_count": 1,
   "id": "381a884a-e5a2-48c9-9490-8281ebda22ac",
   "metadata": {},
   "outputs": [],
   "source": [
    "import numpy as np\n",
    "import glob\n",
    "import pickle"
   ]
  },
  {
   "cell_type": "code",
   "execution_count": null,
   "id": "09f9d884-dce0-49fa-9fe1-54b19a30d38a",
   "metadata": {},
   "outputs": [],
   "source": []
  },
  {
   "cell_type": "code",
   "execution_count": null,
   "id": "e9988028-2733-4788-a7c3-81e4ed10983f",
   "metadata": {},
   "outputs": [],
   "source": []
  },
  {
   "cell_type": "markdown",
   "id": "3afab0e4-3c78-4302-a46c-0b11a35bf47b",
   "metadata": {},
   "source": [
    "# 0. Data Preparation\n",
    "* For practical purpose, we generate synthetic data according to the LinearVAR setting described in the paper. In this demo, we consider a setup with **20 nodes and 5 entities**; the total number of available time series observations is 10k\n",
    "* The exact DGP and the sample preparation parameters are specified in `./configs/demo.yaml` section `DGP`\n",
    "* Note that our synthetic data pipeline entails two major pieces: (1) trajectory generation; and (2) sample preparation. In the case where one already has the trajectories, proceed with Step 2 directly"
   ]
  },
  {
   "cell_type": "code",
   "execution_count": 2,
   "id": "e435adb9-9a37-443a-af4a-e5b1208c89ea",
   "metadata": {},
   "outputs": [
    {
     "name": "stdout",
     "output_type": "stream",
     "text": [
      "\n",
      "DGP:\n",
      "  dgp_str: 'LinearVAR'\n",
      "  num_nodes: 20\n",
      "  num_subjects: 5\n",
      "  dispersion: 0.3\n",
      "  perturb_support: True\n",
      "  q_lags: 1\n",
      "  sigLow: 1\n",
      "  sigHigh: 2\n",
      "  sigDecay: 1\n",
      "  specr_common: 0.5\n",
      "  sparsity_common: 0.1\n",
      "  specr_max: 0.95\n",
      "  sigma_obs: 1\n",
      "  T_obs: 10000\n",
      "  ## for sample preparation; reserve 2000 samples for validation and 1000 samples for testing\n",
      "  num_train: 6971\n",
      "  num_val: 2000\n",
      "  num_test: 1000\n",
      "  context_length: 30\n",
      "  target_length: 0\n",
      "  stride: 1\n"
     ]
    }
   ],
   "source": [
    "!head -23 configs/demo.yaml"
   ]
  },
  {
   "cell_type": "code",
   "execution_count": 3,
   "id": "8b125355-f00e-4456-98c8-8ceef8696c7b",
   "metadata": {},
   "outputs": [],
   "source": [
    "!python -u generator/generate_VAR.py --ds_str='demo' --seed=0"
   ]
  },
  {
   "cell_type": "markdown",
   "id": "92a041f7-6408-4ec7-a45e-4161da04f498",
   "metadata": {},
   "source": [
    "**Move the data to folder `data_demo/`** (in our experiment pipeline, simulated data would sit under `data_sim/` by default)"
   ]
  },
  {
   "cell_type": "code",
   "execution_count": 4,
   "id": "0f87bc91-65d7-40dc-9f98-c43126633006",
   "metadata": {},
   "outputs": [],
   "source": [
    "!mkdir -p data_demo\n",
    "!mv data_sim/demo_seed0 data_demo/.\n",
    "!rm -rf data_sim"
   ]
  },
  {
   "cell_type": "markdown",
   "id": "f0d2bfb8-ddf7-4d07-843a-db2e69bd9bef",
   "metadata": {},
   "source": [
    "## 0.1 Prepare the data"
   ]
  },
  {
   "cell_type": "markdown",
   "id": "65362715-aea7-40f6-a8f5-6fdcbb5cb04c",
   "metadata": {},
   "source": [
    "**The trajectories (i.e., input time series observations) are given as a dictionary, with each (key, value) corresponding to the (entity ID, multivariate time series observation for the entity)**"
   ]
  },
  {
   "cell_type": "code",
   "execution_count": 5,
   "id": "e2c2c7f5-f5df-4179-a3cc-4b826972d76d",
   "metadata": {},
   "outputs": [
    {
     "name": "stdout",
     "output_type": "stream",
     "text": [
      "dict_keys([0, 1, 2, 3, 4])\n"
     ]
    }
   ],
   "source": [
    "with open('data_demo/demo_seed0/trajs.pickle','rb') as handle:\n",
    "    trajs = pickle.load(handle)\n",
    "print(trajs.keys())"
   ]
  },
  {
   "cell_type": "code",
   "execution_count": 6,
   "id": "5363c2a8-b33c-4bea-8451-308e071cd178",
   "metadata": {},
   "outputs": [
    {
     "data": {
      "text/plain": [
       "(numpy.ndarray, (10000, 20))"
      ]
     },
     "execution_count": 6,
     "metadata": {},
     "output_type": "execute_result"
    }
   ],
   "source": [
    "type(trajs[0]), trajs[0].shape"
   ]
  },
  {
   "cell_type": "markdown",
   "id": "66bb7e96-9d3e-4c0d-8c81-36049967437a",
   "metadata": {},
   "source": [
    "**The prepared samples are in the form of \"short\" trajectories with the designated context length, separated into train/val/test data folders**\n",
    "* See L106-L128 in `generator/generate_VAR.py` for an example of how the trajectories are parsed into samples"
   ]
  },
  {
   "cell_type": "code",
   "execution_count": 7,
   "id": "2b54d312-7979-4709-8c9b-701f1f989eda",
   "metadata": {},
   "outputs": [
    {
     "name": "stdout",
     "output_type": "stream",
     "text": [
      "['data_demo/demo_seed0/train/data_0.npy', 'data_demo/demo_seed0/train/data_1.npy', 'data_demo/demo_seed0/train/data_10.npy', 'data_demo/demo_seed0/train/data_100.npy', 'data_demo/demo_seed0/train/data_1000.npy', 'data_demo/demo_seed0/train/data_1001.npy', 'data_demo/demo_seed0/train/data_1002.npy', 'data_demo/demo_seed0/train/data_1003.npy', 'data_demo/demo_seed0/train/data_1004.npy', 'data_demo/demo_seed0/train/data_1005.npy']\n"
     ]
    }
   ],
   "source": [
    "## take a look at what's in the train folder, showing the first 10\n",
    "print(sorted(glob.glob('data_demo/demo_seed0/train/*.npy'))[:10])"
   ]
  },
  {
   "cell_type": "code",
   "execution_count": 8,
   "id": "9632a4cd-0517-4cc7-b255-c3222ef9aaf1",
   "metadata": {},
   "outputs": [
    {
     "data": {
      "text/plain": [
       "(5, 30, 20)"
      ]
     },
     "execution_count": 8,
     "metadata": {},
     "output_type": "execute_result"
    }
   ],
   "source": [
    "## each data slices corresponds to a single \"sample\"; now take a look at the dimension of each data slice\n",
    "data_slice = np.load('data_demo/demo_seed0/train/data_104.npy')\n",
    "data_slice.shape # (num_entities, context_length, num_nodes)"
   ]
  },
  {
   "cell_type": "markdown",
   "id": "7f063a93-b1ed-4e91-b780-ec2fe6a81b7c",
   "metadata": {},
   "source": [
    "## 0.2 Prepare the dataset class\n",
    "* This is a short piece of code that will be later used for loading the above sample-level data into the dataloader\n",
    "* The name of this Dataset object does NOT need to be identical to the name of the dataset (e.g., it can be used for multiple datasets as long as they all possess the same input format). See L51-L54 of `utils/realrunner.py` for more details on how the classname is determined; see L92 for an example of how the Dataset class is instantiated.\n",
    "* Dont forget to add it to `__init__.py` in the folder"
   ]
  },
  {
   "cell_type": "code",
   "execution_count": 9,
   "id": "d1f82317-3baf-4fbc-a72d-c32232ce65f9",
   "metadata": {},
   "outputs": [
    {
     "name": "stdout",
     "output_type": "stream",
     "text": [
      "\"\"\"\n",
      "Customized Dataset class for loading the trajectories of the demo dataset\n",
      "\"\"\"\n",
      "\n",
      "import os\n",
      "import time\n",
      "import numpy as np\n",
      "\n",
      "import torch\n",
      "from torch.utils.data.dataset import Dataset\n",
      "from torch.utils.data.dataloader import DataLoader\n",
      "\n",
      "class demoMultiSub(Dataset):\n",
      "    def __init__(\n",
      "        self,\n",
      "        ds_name,\n",
      "        size,\n",
      "        file_type = 'train',\n",
      "    ):\n",
      "        self.data_prefix = f'data_demo/{ds_name}/{file_type}/data_'\n",
      "        self.list_of_ids = list(range(size))\n",
      "        \n",
      "    def __len__(self):\n",
      "        return len(self.list_of_ids)\n",
      "\n",
      "    def __getitem__(self, index):\n",
      "        idx = self.list_of_ids[index]\n",
      "        data = np.load(self.data_prefix + str(idx) + '.npy')\n",
      "        data = torch.from_numpy(data).to(dtype=torch.float32)\n",
      "        return data\n",
      "\n",
      "class demoOneSub(Dataset):\n",
      "    def __init__(\n",
      "        self,\n",
      "        ds_name,\n",
      "        size,\n",
      "        file_type = 'train',\n",
      "        subject_id = 0\n",
      "    ):\n",
      "        self.data_prefix = f'data_demo/{ds_name}/{file_type}/data_'\n",
      "        self.sample_size = size\n",
      "        self.list_of_ids = list(range(size))\n",
      "        self.subject_id = subject_id\n",
      "        \n",
      "    def __len__(self):\n",
      "        return len(self.list_of_ids)\n",
      "\n",
      "    def __getitem__(self, index):\n",
      "        idx = self.list_of_ids[index]\n",
      "        data = np.load(self.data_prefix + str(idx) + '.npy')[self.subject_id]\n",
      "        data = torch.from_numpy(data).to(dtype=torch.float32).unsqueeze(0)\n",
      "        return data\n"
     ]
    }
   ],
   "source": [
    "!cat src/datasets/demo.py"
   ]
  },
  {
   "cell_type": "markdown",
   "id": "d7cb59f5-1767-4c18-b189-37e6230a189e",
   "metadata": {},
   "source": [
    "# 1. Run the model\n",
    "* Here we use 3000 samples to train; certain hyper-parameters are set small intentionally so that the network is not too big\n",
    "* The specifications of output_dir and config are optional, in which case defaults will be used"
   ]
  },
  {
   "cell_type": "code",
   "execution_count": 10,
   "id": "463d54d9-4f0d-4dd9-9f78-92941b8332ee",
   "metadata": {},
   "outputs": [],
   "source": [
    "## train with the proposed Multi-Entity VAE-based framework\n",
    "!python -u train.py --ds_str='demo' --train_size=3000 --cuda=0 --output_dir='output_demo/MultiSub' --config='./configs/demo.yaml'"
   ]
  },
  {
   "cell_type": "code",
   "execution_count": 11,
   "id": "bcf53a56-7564-46be-a7de-550b8b19f3e3",
   "metadata": {},
   "outputs": [],
   "source": [
    "## train with the single-Entity VAE-based framework for entity 0\n",
    "!python -u train_one.py --ds_str='demo' --train_size=3000 --subject_id=0 --cuda=0 --output_dir='output_demo/OneSub/subject_0' --config='./configs/demo_oneSub.yaml'"
   ]
  },
  {
   "cell_type": "code",
   "execution_count": null,
   "id": "7a1a2184-028f-4cf9-bff5-26c01a730e9a",
   "metadata": {},
   "outputs": [],
   "source": []
  },
  {
   "cell_type": "code",
   "execution_count": 12,
   "id": "9f61cb32-63cf-460c-a3e1-77aaaace2737",
   "metadata": {},
   "outputs": [
    {
     "name": "stdout",
     "output_type": "stream",
     "text": [
      "\u001b[01;34moutput_demo\u001b[0m\n",
      "├── \u001b[01;34mMultiSub\u001b[0m\n",
      "│   ├── \u001b[00margs.json\u001b[0m\n",
      "│   ├── \u001b[01;34mckpts\u001b[0m\n",
      "│   │   ├── \u001b[00mckpt-best.ckpt\u001b[0m\n",
      "│   │   └── \u001b[00mckpt-last.ckpt\u001b[0m\n",
      "│   ├── \u001b[00mtest_barGraphs.npy\u001b[0m\n",
      "│   ├── \u001b[00mtest_subjGraphs.npy\u001b[0m\n",
      "│   ├── \u001b[00mtest_xPredsMean.npy\u001b[0m\n",
      "│   └── \u001b[00mtest_xTargets.npy\u001b[0m\n",
      "└── \u001b[01;34mOneSub\u001b[0m\n",
      "    └── \u001b[01;34msubject_0\u001b[0m\n",
      "        ├── \u001b[00margs.json\u001b[0m\n",
      "        ├── \u001b[01;34mckpts\u001b[0m\n",
      "        │   ├── \u001b[00mckpt-best.ckpt\u001b[0m\n",
      "        │   └── \u001b[00mckpt-last.ckpt\u001b[0m\n",
      "        ├── \u001b[00mtest_subjGraphs.npy\u001b[0m\n",
      "        ├── \u001b[00mtest_xPredsMean.npy\u001b[0m\n",
      "        └── \u001b[00mtest_xTargets.npy\u001b[0m\n",
      "\n",
      "6 directories, 13 files\n"
     ]
    }
   ],
   "source": [
    "!tree output_demo"
   ]
  },
  {
   "cell_type": "code",
   "execution_count": null,
   "id": "ddf4c85d-15c1-426c-942c-e7e7678cda36",
   "metadata": {},
   "outputs": [],
   "source": []
  },
  {
   "cell_type": "code",
   "execution_count": null,
   "id": "c99a814f-10a1-4e88-86c4-dda26b7cb412",
   "metadata": {},
   "outputs": [],
   "source": []
  },
  {
   "cell_type": "markdown",
   "id": "345de6d6-6d8e-4823-9d37-282084d8a9fb",
   "metadata": {},
   "source": [
    "# 2. Collect the results and plot"
   ]
  },
  {
   "cell_type": "code",
   "execution_count": 13,
   "id": "d6426833-c73e-47d3-9d60-2e7022f1c1ef",
   "metadata": {},
   "outputs": [],
   "source": [
    "from sklearn import metrics"
   ]
  },
  {
   "cell_type": "code",
   "execution_count": 14,
   "id": "3149afac-abb0-482b-877e-194ef15833dc",
   "metadata": {},
   "outputs": [],
   "source": [
    "from utils.utils_plot import *\n",
    "from utils.utils_eval import gather_vaeGraphs\n",
    "import matplotlib.pyplot as plt"
   ]
  },
  {
   "cell_type": "code",
   "execution_count": 15,
   "id": "e44f04ec-5059-4e26-be4a-66acb41a7c33",
   "metadata": {},
   "outputs": [],
   "source": [
    "figsize=(12,2)"
   ]
  },
  {
   "cell_type": "markdown",
   "id": "4b9ff57a-feaa-4704-897a-9020c48e181a",
   "metadata": {},
   "source": [
    "## 2.1 Plot the underlying truth"
   ]
  },
  {
   "cell_type": "code",
   "execution_count": 16,
   "id": "aae0bcf1-1338-4784-9b21-4b4ddf080996",
   "metadata": {},
   "outputs": [],
   "source": [
    "data_folder = 'data_demo/demo_seed0'\n",
    "GC_bar = np.load(f'{data_folder}/A_bar.npy')\n",
    "GC_by_subj = np.load(f'{data_folder}/A_by_subject.npy')"
   ]
  },
  {
   "cell_type": "code",
   "execution_count": 17,
   "id": "102305fa-352e-4ca5-b506-0cdea386435c",
   "metadata": {},
   "outputs": [
    {
     "data": {
      "image/png": "[encoded data removed]",
      "text/plain": [
       "<Figure size 1200x200 with 6 Axes>"
      ]
     },
     "metadata": {},
     "output_type": "display_data"
    }
   ],
   "source": [
    "fig, axs = plt.subplots(1,6,figsize=figsize,constrained_layout=True)\n",
    "get_heatmap(GC_bar, axs_to_plot=axs[0],threshold=1.0e-6,annot=False)\n",
    "axs[0].set_title('Grand-common GC')\n",
    "for i in range(5):\n",
    "    get_heatmap_with_mask(GC_by_subj[i], GC_bar, axs_to_plot=axs[i+1],threshold=1.0e-6)\n",
    "    axs[i+1].set_title(f'Entity {i} GC')\n",
    "plt.show()"
   ]
  },
  {
   "cell_type": "markdown",
   "id": "18cd42d7-b7b9-4874-a0b7-981f6c236496",
   "metadata": {},
   "source": [
    "## 2.2 Gather results from the model"
   ]
  },
  {
   "cell_type": "code",
   "execution_count": 18,
   "id": "3b4435d5-af25-47b7-86dc-19f2dcb98616",
   "metadata": {},
   "outputs": [],
   "source": [
    "n_nodes, n_subjects = 20, 5"
   ]
  },
  {
   "cell_type": "code",
   "execution_count": 19,
   "id": "16ffd62f-c445-4e1c-95e7-cfe68eb37c7e",
   "metadata": {},
   "outputs": [],
   "source": [
    "estGC_by_subj, estGC_bar = gather_vaeGraphs('output_demo/MultiSub', n_nodes, n_subjects, runType='multi')"
   ]
  },
  {
   "cell_type": "code",
   "execution_count": 20,
   "id": "9988c38a-5ac8-418d-9e81-9aef6dbd090d",
   "metadata": {},
   "outputs": [
    {
     "data": {
      "text/plain": [
       "((5, 20, 20), (20, 20))"
      ]
     },
     "execution_count": 20,
     "metadata": {},
     "output_type": "execute_result"
    }
   ],
   "source": [
    "estGC_by_subj.shape, estGC_bar.shape"
   ]
  },
  {
   "cell_type": "markdown",
   "id": "8ab36e3d-8323-4e4e-bd49-8e8d3aa42a09",
   "metadata": {},
   "source": [
    "### Evaluate\n",
    "* showing evaluation of the common graph $\\bar{\\mathbf{z}}$"
   ]
  },
  {
   "cell_type": "code",
   "execution_count": 21,
   "id": "f54d9fa7-d427-4923-802d-53a93accc84c",
   "metadata": {},
   "outputs": [
    {
     "name": "stdout",
     "output_type": "stream",
     "text": [
      "AUROC=99.96%\n"
     ]
    }
   ],
   "source": [
    "## AUROC\n",
    "auroc = metrics.roc_auc_score(1*(GC_bar!=0).ravel(), np.abs(estGC_bar).ravel())\n",
    "print(f'AUROC={auroc*100:.2f}%')"
   ]
  },
  {
   "cell_type": "code",
   "execution_count": 22,
   "id": "0b81dc8b-fec3-422a-8a5e-4cdf1ebcd739",
   "metadata": {},
   "outputs": [
    {
     "name": "stdout",
     "output_type": "stream",
     "text": [
      "AUROC=99.59%\n"
     ]
    }
   ],
   "source": [
    "## AUPRC\n",
    "auroc = metrics.average_precision_score(1*(GC_bar!=0).ravel(), np.abs(estGC_bar).ravel())\n",
    "print(f'AUROC={auroc*100:.2f}%')"
   ]
  },
  {
   "cell_type": "code",
   "execution_count": null,
   "id": "c844f69a-ac64-467b-9301-cc4a4a25ce6a",
   "metadata": {},
   "outputs": [],
   "source": []
  },
  {
   "cell_type": "markdown",
   "id": "f462e65c-a23c-46bd-ad94-ca06a90dcde1",
   "metadata": {},
   "source": [
    "### Plot\n",
    "* Note that the proposed methodology can recover the true signs _up to_ a complete sign flip (see Appendix E of the paper) and preseverse the positive/negative \"clusters\". This shows up in this specific run, where all negatives are identified as \"red\" and positives are identified as \"blue\", which corresponds to a complete sign flip relative to the truth. "
   ]
  },
  {
   "cell_type": "code",
   "execution_count": 23,
   "id": "def33a8b-3d10-4e29-8629-d344354c86ea",
   "metadata": {},
   "outputs": [
    {
     "data": {
      "image/png": "[encoded data removed]",
      "text/plain": [
       "<Figure size 1200x200 with 6 Axes>"
      ]
     },
     "metadata": {},
     "output_type": "display_data"
    }
   ],
   "source": [
    "fig, axs = plt.subplots(1,6,figsize=figsize,constrained_layout=True)\n",
    "get_heatmap(estGC_bar, axs_to_plot=axs[0],threshold=0.40,annot=False)\n",
    "axs[0].set_title('(est.) Grand-common GC')\n",
    "for i in range(5):\n",
    "    get_heatmap_with_mask(estGC_by_subj[i], 1*(np.abs(estGC_bar)>=0.40), axs_to_plot=axs[i+1],threshold=0.40)\n",
    "    axs[i+1].set_title(f'(est.) Entity {i} GC')\n",
    "plt.show()"
   ]
  },
  {
   "cell_type": "code",
   "execution_count": null,
   "id": "2ad5adeb-5c70-4558-9738-1cb4f68fa618",
   "metadata": {},
   "outputs": [],
   "source": []
  }
 ],
 "metadata": {
  "kernelspec": {
   "display_name": "Python 3 (ipykernel)",
   "language": "python",
   "name": "python3"
  },
  "language_info": {
   "codemirror_mode": {
    "name": "ipython",
    "version": 3
   },
   "file_extension": ".py",
   "mimetype": "text/x-python",
   "name": "python",
   "nbconvert_exporter": "python",
   "pygments_lexer": "ipython3",
   "version": "3.10.12"
  }
 },
 "nbformat": 4,
 "nbformat_minor": 5
}
